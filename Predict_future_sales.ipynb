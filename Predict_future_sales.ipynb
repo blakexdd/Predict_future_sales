{
 "cells": [
  {
   "cell_type": "markdown",
   "metadata": {},
   "source": [
    "# Solution for \"Predicting future sales\" competition at kaggle\n",
    "# [Competition](https://www.kaggle.com/c/competitive-data-science-predict-future-sales/overview)\n",
    "# Programmer: VG6\n",
    "# Date: 23.04.2020"
   ]
  },
  {
   "cell_type": "markdown",
   "metadata": {},
   "source": [
    "## Setting up\n",
    "Here we import modules we will work with and reading data to variables"
   ]
  },
  {
   "cell_type": "code",
   "execution_count": 1,
   "metadata": {
    "pycharm": {
     "is_executing": false
    }
   },
   "outputs": [
    {
     "name": "stderr",
     "output_type": "stream",
     "text": [
      "Using TensorFlow backend.\n"
     ]
    }
   ],
   "source": [
    "import pandas as pd\n",
    "from EDA_functions import brief_data_analyse, drop_duplicates, graph_insight, unreal_data_check\n",
    "from EDA_functions import stationarity_test, difference, inverse_difference\n",
    "import matplotlib.pyplot as plt\n",
    "import re\n",
    "import seaborn as sns\n",
    "from sklearn.preprocessing import LabelEncoder\n",
    "from sklearn.preprocessing import OneHotEncoder\n",
    "import xgboost as xgb\n",
    "from sklearn.metrics import mean_squared_error, accuracy_score\n",
    "from sklearn.linear_model import LinearRegression\n",
    "from keras.models import Sequential\n",
    "from keras.layers import Dense\n",
    "from sklearn.metrics import r2_score\n",
    "from keras.layers import LSTM\n",
    "from sklearn.preprocessing import MinMaxScaler\n",
    "from itertools import product\n",
    "import numpy as np\n",
    "from tqdm import tqdm\n",
    "from IPython.core.interactiveshell import InteractiveShell\n",
    "InteractiveShell.ast_node_interactivity = \"all\"\n",
    "sns.set_style('darkgrid')\n",
    "%matplotlib inline\n",
    "\n",
    "import warnings\n",
    "warnings.filterwarnings(\"ignore\")"
   ]
  },
  {
   "cell_type": "code",
   "execution_count": 2,
   "metadata": {
    "pycharm": {
     "is_executing": false
    }
   },
   "outputs": [],
   "source": [
    "# reading data\n",
    "item_categories = pd.read_csv('Data/item_categories.csv')\n",
    "items = pd.read_csv('Data/items.csv')\n",
    "sales_train = pd.read_csv('Data/sales_train.csv')\n",
    "sample_submission = pd.read_csv('Data/sample_submission.csv', index_col=0)\n",
    "shops = pd.read_csv('Data/shops.csv')\n",
    "test = pd.read_csv('Data/test.csv')"
   ]
  },
  {
   "cell_type": "markdown",
   "metadata": {},
   "source": [
    "## Getting understanding of data"
   ]
  },
  {
   "cell_type": "markdown",
   "metadata": {},
   "source": [
    "### Observing data\n",
    "\n",
    "Here we take a brief look at data. Observing first 5 rows of each dataset, getting information about types of \n",
    "each column, checking for missing and null values and getting data shape.\n",
    "\n",
    "Data in sales train Data Frame is different from data in test Data Frame. In test Data Frame there are shop_id's and item_id's, but in sales train Data Frame we additionally have date_block_num column. In order to get same kind of data as in test, we need to group our train data by date_block_num (month), shop_id and item_id and sum for item_cnt_day. Finally we will get number of items (of item_id) sold at particular month in particular shop (shop_id)\n"
   ]
  },
  {
   "cell_type": "code",
   "execution_count": 3,
   "metadata": {
    "pycharm": {
     "is_executing": false
    }
   },
   "outputs": [
    {
     "name": "stdout",
     "output_type": "stream",
     "text": [
      "======= First 5 records =======\n",
      "         date  date_block_num  shop_id  item_id  item_price  item_cnt_day\n",
      "0  02.01.2013               0       59    22154      999.00           1.0\n",
      "1  03.01.2013               0       25     2552      899.00           1.0\n",
      "2  05.01.2013               0       25     2552      899.00          -1.0\n",
      "3  06.01.2013               0       25     2554     1709.05           1.0\n",
      "4  15.01.2013               0       25     2555     1099.00           1.0\n",
      "======= Info =======\n",
      "<class 'pandas.core.frame.DataFrame'>\n",
      "RangeIndex: 2935849 entries, 0 to 2935848\n",
      "Data columns (total 6 columns):\n",
      " #   Column          Dtype  \n",
      "---  ------          -----  \n",
      " 0   date            object \n",
      " 1   date_block_num  int64  \n",
      " 2   shop_id         int64  \n",
      " 3   item_id         int64  \n",
      " 4   item_price      float64\n",
      " 5   item_cnt_day    float64\n",
      "dtypes: float64(2), int64(3), object(1)\n",
      "memory usage: 134.4+ MB\n",
      "None\n",
      "======= Dtypes =======\n",
      "date               object\n",
      "date_block_num      int64\n",
      "shop_id             int64\n",
      "item_id             int64\n",
      "item_price        float64\n",
      "item_cnt_day      float64\n",
      "dtype: object\n",
      "======= Missing values =======\n",
      "date              0\n",
      "date_block_num    0\n",
      "shop_id           0\n",
      "item_id           0\n",
      "item_price        0\n",
      "item_cnt_day      0\n",
      "dtype: int64\n",
      "======= Null values =======\n",
      "date              0\n",
      "date_block_num    0\n",
      "shop_id           0\n",
      "item_id           0\n",
      "item_price        0\n",
      "item_cnt_day      0\n",
      "dtype: int64\n",
      "======= Data Shape =======\n",
      "(2935849, 6)\n"
     ]
    }
   ],
   "source": [
    "brief_data_analyse(sales_train)"
   ]
  },
  {
   "cell_type": "code",
   "execution_count": 4,
   "metadata": {
    "pycharm": {
     "is_executing": false
    }
   },
   "outputs": [
    {
     "name": "stdout",
     "output_type": "stream",
     "text": [
      "======= First 5 records =======\n",
      "        item_category_name  item_category_id\n",
      "0  PC - Гарнитуры/Наушники                 0\n",
      "1         Аксессуары - PS2                 1\n",
      "2         Аксессуары - PS3                 2\n",
      "3         Аксессуары - PS4                 3\n",
      "4         Аксессуары - PSP                 4\n",
      "======= Info =======\n",
      "<class 'pandas.core.frame.DataFrame'>\n",
      "RangeIndex: 84 entries, 0 to 83\n",
      "Data columns (total 2 columns):\n",
      " #   Column              Non-Null Count  Dtype \n",
      "---  ------              --------------  ----- \n",
      " 0   item_category_name  84 non-null     object\n",
      " 1   item_category_id    84 non-null     int64 \n",
      "dtypes: int64(1), object(1)\n",
      "memory usage: 1.4+ KB\n",
      "None\n",
      "======= Dtypes =======\n",
      "item_category_name    object\n",
      "item_category_id       int64\n",
      "dtype: object\n",
      "======= Missing values =======\n",
      "item_category_name    0\n",
      "item_category_id      0\n",
      "dtype: int64\n",
      "======= Null values =======\n",
      "item_category_name    0\n",
      "item_category_id      0\n",
      "dtype: int64\n",
      "======= Data Shape =======\n",
      "(84, 2)\n"
     ]
    }
   ],
   "source": [
    "brief_data_analyse(item_categories)"
   ]
  },
  {
   "cell_type": "code",
   "execution_count": 5,
   "metadata": {
    "pycharm": {
     "is_executing": false
    }
   },
   "outputs": [
    {
     "name": "stdout",
     "output_type": "stream",
     "text": [
      "======= First 5 records =======\n",
      "                                           item_name  item_id  \\\n",
      "0          ! ВО ВЛАСТИ НАВАЖДЕНИЯ (ПЛАСТ.)         D        0   \n",
      "1  !ABBYY FineReader 12 Professional Edition Full...        1   \n",
      "2      ***В ЛУЧАХ СЛАВЫ   (UNV)                    D        2   \n",
      "3    ***ГОЛУБАЯ ВОЛНА  (Univ)                      D        3   \n",
      "4        ***КОРОБКА (СТЕКЛО)                       D        4   \n",
      "\n",
      "   item_category_id  \n",
      "0                40  \n",
      "1                76  \n",
      "2                40  \n",
      "3                40  \n",
      "4                40  \n",
      "======= Info =======\n",
      "<class 'pandas.core.frame.DataFrame'>\n",
      "RangeIndex: 22170 entries, 0 to 22169\n",
      "Data columns (total 3 columns):\n",
      " #   Column            Non-Null Count  Dtype \n",
      "---  ------            --------------  ----- \n",
      " 0   item_name         22170 non-null  object\n",
      " 1   item_id           22170 non-null  int64 \n",
      " 2   item_category_id  22170 non-null  int64 \n",
      "dtypes: int64(2), object(1)\n",
      "memory usage: 519.7+ KB\n",
      "None\n",
      "======= Dtypes =======\n",
      "item_name           object\n",
      "item_id              int64\n",
      "item_category_id     int64\n",
      "dtype: object\n",
      "======= Missing values =======\n",
      "item_name           0\n",
      "item_id             0\n",
      "item_category_id    0\n",
      "dtype: int64\n",
      "======= Null values =======\n",
      "item_name           0\n",
      "item_id             0\n",
      "item_category_id    0\n",
      "dtype: int64\n",
      "======= Data Shape =======\n",
      "(22170, 3)\n"
     ]
    }
   ],
   "source": [
    "brief_data_analyse(items)"
   ]
  },
  {
   "cell_type": "code",
   "execution_count": 6,
   "metadata": {
    "pycharm": {
     "is_executing": false
    }
   },
   "outputs": [
    {
     "name": "stdout",
     "output_type": "stream",
     "text": [
      "======= First 5 records =======\n",
      "    item_cnt_month\n",
      "ID                \n",
      "0              0.5\n",
      "1              0.5\n",
      "2              0.5\n",
      "3              0.5\n",
      "4              0.5\n",
      "======= Info =======\n",
      "<class 'pandas.core.frame.DataFrame'>\n",
      "Int64Index: 214200 entries, 0 to 214199\n",
      "Data columns (total 1 columns):\n",
      " #   Column          Non-Null Count   Dtype  \n",
      "---  ------          --------------   -----  \n",
      " 0   item_cnt_month  214200 non-null  float64\n",
      "dtypes: float64(1)\n",
      "memory usage: 3.3 MB\n",
      "None\n",
      "======= Dtypes =======\n",
      "item_cnt_month    float64\n",
      "dtype: object\n",
      "======= Missing values =======\n",
      "item_cnt_month    0\n",
      "dtype: int64\n",
      "======= Null values =======\n",
      "item_cnt_month    0\n",
      "dtype: int64\n",
      "======= Data Shape =======\n",
      "(214200, 1)\n"
     ]
    }
   ],
   "source": [
    "brief_data_analyse(sample_submission)"
   ]
  },
  {
   "cell_type": "code",
   "execution_count": 7,
   "metadata": {
    "pycharm": {
     "is_executing": false
    }
   },
   "outputs": [
    {
     "name": "stdout",
     "output_type": "stream",
     "text": [
      "======= First 5 records =======\n",
      "                        shop_name  shop_id\n",
      "0   !Якутск Орджоникидзе, 56 фран        0\n",
      "1   !Якутск ТЦ \"Центральный\" фран        1\n",
      "2                Адыгея ТЦ \"Мега\"        2\n",
      "3  Балашиха ТРК \"Октябрь-Киномир\"        3\n",
      "4        Волжский ТЦ \"Волга Молл\"        4\n",
      "======= Info =======\n",
      "<class 'pandas.core.frame.DataFrame'>\n",
      "RangeIndex: 60 entries, 0 to 59\n",
      "Data columns (total 2 columns):\n",
      " #   Column     Non-Null Count  Dtype \n",
      "---  ------     --------------  ----- \n",
      " 0   shop_name  60 non-null     object\n",
      " 1   shop_id    60 non-null     int64 \n",
      "dtypes: int64(1), object(1)\n",
      "memory usage: 1.1+ KB\n",
      "None\n",
      "======= Dtypes =======\n",
      "shop_name    object\n",
      "shop_id       int64\n",
      "dtype: object\n",
      "======= Missing values =======\n",
      "shop_name    0\n",
      "shop_id      0\n",
      "dtype: int64\n",
      "======= Null values =======\n",
      "shop_name    0\n",
      "shop_id      0\n",
      "dtype: int64\n",
      "======= Data Shape =======\n",
      "(60, 2)\n"
     ]
    }
   ],
   "source": [
    "brief_data_analyse(shops)"
   ]
  },
  {
   "cell_type": "code",
   "execution_count": 8,
   "metadata": {
    "pycharm": {
     "is_executing": false
    }
   },
   "outputs": [
    {
     "name": "stdout",
     "output_type": "stream",
     "text": [
      "======= First 5 records =======\n",
      "   ID  shop_id  item_id\n",
      "0   0        5     5037\n",
      "1   1        5     5320\n",
      "2   2        5     5233\n",
      "3   3        5     5232\n",
      "4   4        5     5268\n",
      "======= Info =======\n",
      "<class 'pandas.core.frame.DataFrame'>\n",
      "RangeIndex: 214200 entries, 0 to 214199\n",
      "Data columns (total 3 columns):\n",
      " #   Column   Non-Null Count   Dtype\n",
      "---  ------   --------------   -----\n",
      " 0   ID       214200 non-null  int64\n",
      " 1   shop_id  214200 non-null  int64\n",
      " 2   item_id  214200 non-null  int64\n",
      "dtypes: int64(3)\n",
      "memory usage: 4.9 MB\n",
      "None\n",
      "======= Dtypes =======\n",
      "ID         int64\n",
      "shop_id    int64\n",
      "item_id    int64\n",
      "dtype: object\n",
      "======= Missing values =======\n",
      "ID         0\n",
      "shop_id    0\n",
      "item_id    0\n",
      "dtype: int64\n",
      "======= Null values =======\n",
      "ID         0\n",
      "shop_id    0\n",
      "item_id    0\n",
      "dtype: int64\n",
      "======= Data Shape =======\n",
      "(214200, 3)\n"
     ]
    }
   ],
   "source": [
    "brief_data_analyse(test)"
   ]
  },
  {
   "cell_type": "markdown",
   "metadata": {},
   "source": [
    "### Checking distrubution of data in train and test set\n",
    "Here we plot distribution of data in train and test sets. As we can see, distributions are different"
   ]
  },
  {
   "cell_type": "code",
   "execution_count": 9,
   "metadata": {
    "pycharm": {
     "is_executing": false,
     "name": "#%%\n"
    }
   },
   "outputs": [
    {
     "name": "stdout",
     "output_type": "stream",
     "text": [
      "{dtype('O'), dtype('int64'), dtype('float64')}\n"
     ]
    },
    {
     "data": {
      "image/png": "[encoded data removed]",
      "text/plain": [
       "<Figure size 1152x1152 with 6 Axes>"
      ]
     },
     "metadata": {
      "needs_background": "light"
     },
     "output_type": "display_data"
    }
   ],
   "source": [
    "graph_insight(sales_train)"
   ]
  },
  {
   "cell_type": "code",
   "execution_count": 10,
   "metadata": {
    "pycharm": {
     "is_executing": false,
     "name": "#%%\n"
    }
   },
   "outputs": [
    {
     "name": "stdout",
     "output_type": "stream",
     "text": [
      "{dtype('int64')}\n"
     ]
    },
    {
     "data": {
      "image/png": "[encoded data removed]",
      "text/plain": [
       "<Figure size 1152x360 with 4 Axes>"
      ]
     },
     "metadata": {
      "needs_background": "light"
     },
     "output_type": "display_data"
    }
   ],
   "source": [
    "graph_insight(test, figsize=(16, 5))"
   ]
  },
  {
   "cell_type": "markdown",
   "metadata": {},
   "source": [
    "### Getting understanding about seasonality of data\n",
    "\n",
    "Here we can see that sales increasing at particular time of year, also we can see decreasing trend (sales decrease over the period)\n",
    "\n",
    "We can also see that data is not stationary, beacause mean and variance are not constant over the period"
   ]
  },
  {
   "cell_type": "code",
   "execution_count": 11,
   "metadata": {
    "pycharm": {
     "is_executing": false
    }
   },
   "outputs": [
    {
     "data": {
      "image/png": "[encoded data removed]",
      "text/plain": [
       "<Figure size 1152x576 with 1 Axes>"
      ]
     },
     "metadata": {
      "needs_background": "light"
     },
     "output_type": "display_data"
    }
   ],
   "source": [
    "# getting sales per month\n",
    "total_sales = sales_train.groupby('date_block_num')['item_cnt_day'].sum()\n",
    "\n",
    "# setting up the plot\n",
    "plt.figure(figsize=(16, 8))\n",
    "plt.title('Total sales')\n",
    "plt.xlabel('Months')\n",
    "plt.ylabel('Sales')\n",
    "plt.plot(total_sales);"
   ]
  },
  {
   "cell_type": "code",
   "execution_count": 12,
   "metadata": {
    "pycharm": {
     "is_executing": false
    },
    "scrolled": false
   },
   "outputs": [
    {
     "data": {
      "text/plain": [
       "<Figure size 1152x432 with 0 Axes>"
      ]
     },
     "execution_count": 12,
     "metadata": {},
     "output_type": "execute_result"
    },
    {
     "data": {
      "text/plain": [
       "[<matplotlib.lines.Line2D at 0x7f7b3b2c8ca0>]"
      ]
     },
     "execution_count": 12,
     "metadata": {},
     "output_type": "execute_result"
    },
    {
     "data": {
      "text/plain": [
       "[<matplotlib.lines.Line2D at 0x7f7b3b2c8ee0>]"
      ]
     },
     "execution_count": 12,
     "metadata": {},
     "output_type": "execute_result"
    },
    {
     "data": {
      "text/plain": [
       "<matplotlib.legend.Legend at 0x7f7b3bb8bd60>"
      ]
     },
     "execution_count": 12,
     "metadata": {},
     "output_type": "execute_result"
    },
    {
     "data": {
      "image/png": "[encoded data removed]",
      "text/plain": [
       "<Figure size 1152x432 with 1 Axes>"
      ]
     },
     "metadata": {
      "needs_background": "light"
     },
     "output_type": "display_data"
    }
   ],
   "source": [
    "# setting up the plot\n",
    "plt.figure(figsize=(16, 6))\n",
    "\n",
    "# plotting mean and variance \n",
    "plt.plot(total_sales.rolling(window=12, center=False).mean(), label='Rolling mean')\n",
    "plt.plot(total_sales.rolling(window=12, center=False).std(), label='Rolling std')\n",
    "plt.legend()"
   ]
  },
  {
   "cell_type": "code",
   "execution_count": 13,
   "metadata": {
    "pycharm": {
     "is_executing": false
    },
    "scrolled": true
   },
   "outputs": [
    {
     "name": "stdout",
     "output_type": "stream",
     "text": [
      "Results of Dickey-Fuller Test:\n",
      "Test Statistic                 -2.395704\n",
      "p-value                         0.142953\n",
      "#Lags Used                      0.000000\n",
      "Number of Observations Used    33.000000\n",
      "Critical Value (1%)            -3.646135\n",
      "Critical Value (5%)            -2.954127\n",
      "Critical Value (10%)           -2.615968\n",
      "dtype: float64\n"
     ]
    }
   ],
   "source": [
    "# checking data for stationarity\n",
    "stationarity_test(total_sales)"
   ]
  },
  {
   "cell_type": "code",
   "execution_count": 14,
   "metadata": {
    "pycharm": {
     "is_executing": false
    },
    "scrolled": false
   },
   "outputs": [
    {
     "data": {
      "text/plain": [
       "<Figure size 1152x432 with 0 Axes>"
      ]
     },
     "execution_count": 14,
     "metadata": {},
     "output_type": "execute_result"
    },
    {
     "data": {
      "text/plain": [
       "Text(0.5, 1.0, 'Total sales after de-seasonalization')"
      ]
     },
     "execution_count": 14,
     "metadata": {},
     "output_type": "execute_result"
    },
    {
     "data": {
      "text/plain": [
       "Text(0.5, 0, 'Months')"
      ]
     },
     "execution_count": 14,
     "metadata": {},
     "output_type": "execute_result"
    },
    {
     "data": {
      "text/plain": [
       "Text(0, 0.5, 'Sales')"
      ]
     },
     "execution_count": 14,
     "metadata": {},
     "output_type": "execute_result"
    },
    {
     "data": {
      "text/plain": [
       "[<matplotlib.lines.Line2D at 0x7f7b3bdc8dc0>]"
      ]
     },
     "execution_count": 14,
     "metadata": {},
     "output_type": "execute_result"
    },
    {
     "data": {
      "image/png": "[encoded data removed]",
      "text/plain": [
       "<Figure size 1152x432 with 1 Axes>"
      ]
     },
     "metadata": {
      "needs_background": "light"
     },
     "output_type": "display_data"
    }
   ],
   "source": [
    "# getting total sales with 12 months interval\n",
    "total_sales_12 = difference(total_sales, interval=12)\n",
    "\n",
    "# setting up the plot\n",
    "plt.figure(figsize=(16, 6))\n",
    "plt.title('Total sales after de-seasonalization')\n",
    "plt.xlabel('Months')\n",
    "plt.ylabel('Sales')\n",
    "\n",
    "# plotting sales with 12 months interval\n",
    "plt.plot(total_sales_12)"
   ]
  },
  {
   "cell_type": "code",
   "execution_count": 15,
   "metadata": {
    "pycharm": {
     "is_executing": false
    }
   },
   "outputs": [
    {
     "name": "stdout",
     "output_type": "stream",
     "text": [
      "Results of Dickey-Fuller Test:\n",
      "Test Statistic                 -3.270101\n",
      "p-value                         0.016269\n",
      "#Lags Used                      0.000000\n",
      "Number of Observations Used    21.000000\n",
      "Critical Value (1%)            -3.788386\n",
      "Critical Value (5%)            -3.013098\n",
      "Critical Value (10%)           -2.646397\n",
      "dtype: float64\n"
     ]
    }
   ],
   "source": [
    "# checking for stationarity\n",
    "stationarity_test(total_sales_12)"
   ]
  },
  {
   "cell_type": "markdown",
   "metadata": {},
   "source": [
    "## Preparing sales train dataset"
   ]
  },
  {
   "cell_type": "code",
   "execution_count": 3,
   "metadata": {
    "pycharm": {
     "is_executing": false
    }
   },
   "outputs": [],
   "source": [
    "# Якутск Орджоникидзе, 56\n",
    "sales_train.loc[sales_train.shop_id == 0, 'shop_id'] = 57\n",
    "test.loc[test.shop_id == 0, 'shop_id'] = 57\n",
    "# Якутск ТЦ \"Центральный\"\n",
    "sales_train.loc[sales_train.shop_id == 1, 'shop_id'] = 58\n",
    "test.loc[test.shop_id == 1, 'shop_id'] = 58\n",
    "# Жуковский ул. Чкалова 39м²\n",
    "sales_train.loc[sales_train.shop_id == 10, 'shop_id'] = 11\n",
    "test.loc[test.shop_id == 10, 'shop_id'] = 11"
   ]
  },
  {
   "cell_type": "code",
   "execution_count": 4,
   "metadata": {
    "pycharm": {
     "is_executing": false
    }
   },
   "outputs": [
    {
     "name": "stdout",
     "output_type": "stream",
     "text": [
      "Min value:  -1.0\n",
      "Max value:  307980.0\n",
      "Average value:  890.8532326980126\n",
      "Median value:  399.0\n"
     ]
    }
   ],
   "source": [
    "# checking for unreal values in price\n",
    "# -1.0 for price doesn't look normal and 307980 also\n",
    "unreal_data_check(sales_train['item_price'])"
   ]
  },
  {
   "cell_type": "code",
   "execution_count": 5,
   "metadata": {
    "pycharm": {
     "is_executing": false
    }
   },
   "outputs": [],
   "source": [
    "sales_train = sales_train.loc[sales_train['item_price'] < 100000]"
   ]
  },
  {
   "cell_type": "code",
   "execution_count": 6,
   "metadata": {
    "pycharm": {
     "is_executing": false
    }
   },
   "outputs": [],
   "source": [
    "median = sales_train[(sales_train.shop_id == 32) & (sales_train.item_id == 2973) & \n",
    "                          (sales_train.date_block_num == 4) & (sales_train.item_price > 0)].item_price.median()\n",
    "sales_train.loc[sales_train.item_price < 0, 'item_price'] = median"
   ]
  },
  {
   "cell_type": "code",
   "execution_count": 7,
   "metadata": {
    "pycharm": {
     "is_executing": false
    }
   },
   "outputs": [
    {
     "name": "stdout",
     "output_type": "stream",
     "text": [
      "Min value:  -22.0\n",
      "Max value:  2169.0\n",
      "Average value:  1.242640967788523\n",
      "Median value:  1.0\n"
     ]
    }
   ],
   "source": [
    "# checking for unreal values in items sold\n",
    "# -22.0 is ok, because 22 items may be returned,\n",
    "# but 2169 is extremely big number of sales \n",
    "unreal_data_check(sales_train['item_cnt_day'])"
   ]
  },
  {
   "cell_type": "code",
   "execution_count": 8,
   "metadata": {
    "pycharm": {
     "is_executing": false
    }
   },
   "outputs": [],
   "source": [
    "sales_train = sales_train.loc[sales_train['item_cnt_day'] < 1001]"
   ]
  },
  {
   "cell_type": "code",
   "execution_count": 9,
   "metadata": {
    "pycharm": {
     "is_executing": false
    }
   },
   "outputs": [
    {
     "data": {
      "text/html": [
       "<div>\n",
       "<style scoped>\n",
       "    .dataframe tbody tr th:only-of-type {\n",
       "        vertical-align: middle;\n",
       "    }\n",
       "\n",
       "    .dataframe tbody tr th {\n",
       "        vertical-align: top;\n",
       "    }\n",
       "\n",
       "    .dataframe thead th {\n",
       "        text-align: right;\n",
       "    }\n",
       "</style>\n",
       "<table border=\"1\" class=\"dataframe\">\n",
       "  <thead>\n",
       "    <tr style=\"text-align: right;\">\n",
       "      <th></th>\n",
       "      <th>date</th>\n",
       "      <th>date_block_num</th>\n",
       "      <th>shop_id</th>\n",
       "      <th>item_id</th>\n",
       "      <th>item_price</th>\n",
       "      <th>item_cnt_day</th>\n",
       "    </tr>\n",
       "  </thead>\n",
       "  <tbody>\n",
       "    <tr>\n",
       "      <th>0</th>\n",
       "      <td>02.01.2013</td>\n",
       "      <td>0</td>\n",
       "      <td>59</td>\n",
       "      <td>22154</td>\n",
       "      <td>999.00</td>\n",
       "      <td>1.0</td>\n",
       "    </tr>\n",
       "    <tr>\n",
       "      <th>1</th>\n",
       "      <td>03.01.2013</td>\n",
       "      <td>0</td>\n",
       "      <td>25</td>\n",
       "      <td>2552</td>\n",
       "      <td>899.00</td>\n",
       "      <td>1.0</td>\n",
       "    </tr>\n",
       "    <tr>\n",
       "      <th>2</th>\n",
       "      <td>05.01.2013</td>\n",
       "      <td>0</td>\n",
       "      <td>25</td>\n",
       "      <td>2552</td>\n",
       "      <td>899.00</td>\n",
       "      <td>-1.0</td>\n",
       "    </tr>\n",
       "    <tr>\n",
       "      <th>3</th>\n",
       "      <td>06.01.2013</td>\n",
       "      <td>0</td>\n",
       "      <td>25</td>\n",
       "      <td>2554</td>\n",
       "      <td>1709.05</td>\n",
       "      <td>1.0</td>\n",
       "    </tr>\n",
       "    <tr>\n",
       "      <th>4</th>\n",
       "      <td>15.01.2013</td>\n",
       "      <td>0</td>\n",
       "      <td>25</td>\n",
       "      <td>2555</td>\n",
       "      <td>1099.00</td>\n",
       "      <td>1.0</td>\n",
       "    </tr>\n",
       "  </tbody>\n",
       "</table>\n",
       "</div>"
      ],
      "text/plain": [
       "         date  date_block_num  shop_id  item_id  item_price  item_cnt_day\n",
       "0  02.01.2013               0       59    22154      999.00           1.0\n",
       "1  03.01.2013               0       25     2552      899.00           1.0\n",
       "2  05.01.2013               0       25     2552      899.00          -1.0\n",
       "3  06.01.2013               0       25     2554     1709.05           1.0\n",
       "4  15.01.2013               0       25     2555     1099.00           1.0"
      ]
     },
     "execution_count": 9,
     "metadata": {},
     "output_type": "execute_result"
    }
   ],
   "source": [
    "sales_train.head()"
   ]
  },
  {
   "cell_type": "code",
   "execution_count": 10,
   "metadata": {
    "pycharm": {
     "is_executing": false
    }
   },
   "outputs": [
    {
     "name": "stdout",
     "output_type": "stream",
     "text": [
      "Shape before drop:  (2935847, 6)\n",
      "Shape after drop:  (2935823, 6)\n",
      "Number of duplicates:  24\n"
     ]
    }
   ],
   "source": [
    "# dropping duplicates from data set\n",
    "drop_duplicates(sales_train, ['date', 'date_block_num', 'shop_id', 'item_id','item_cnt_day'])"
   ]
  },
  {
   "cell_type": "markdown",
   "metadata": {
    "pycharm": {
     "name": "#%% md\n"
    }
   },
   "source": [
    "### Preparing train data set in order to mimic data in test"
   ]
  },
  {
   "cell_type": "code",
   "execution_count": 11,
   "metadata": {
    "pycharm": {
     "is_executing": false,
     "name": "#%%\n"
    }
   },
   "outputs": [
    {
     "name": "stderr",
     "output_type": "stream",
     "text": [
      "100%|██████████| 34/34 [00:05<00:00,  6.55it/s]\n"
     ]
    }
   ],
   "source": [
    "# initializing array of all possible date_block_num, shop_id, item_id pairs\n",
    "all_data = []\n",
    "\n",
    "for day in tqdm(range(34)):\n",
    "    sales = sales_train[sales_train['date_block_num'] == day]\n",
    "    all_data.append(np.array(list(product([day], sales['shop_id'].unique(), sales['item_id'].unique())), dtype=np.int32))"
   ]
  },
  {
   "cell_type": "code",
   "execution_count": 12,
   "metadata": {
    "pycharm": {
     "is_executing": false
    }
   },
   "outputs": [],
   "source": [
    "train_data = pd.DataFrame(np.vstack(all_data), columns=['date_block_num', 'shop_id', 'item_id'])\n",
    "\n",
    "train_data['date_block_num'] = train_data['date_block_num'].astype(np.int8)\n",
    "train_data['shop_id'] = train_data['shop_id'].astype(np.int8)\n",
    "train_data['item_id'] = train_data['item_id'].astype(np.int16)\n",
    "\n",
    "train_data.sort_values(['date_block_num', 'shop_id', 'item_id'], inplace=True)"
   ]
  },
  {
   "cell_type": "code",
   "execution_count": 13,
   "metadata": {
    "pycharm": {
     "is_executing": false
    }
   },
   "outputs": [],
   "source": [
    "del all_data"
   ]
  },
  {
   "cell_type": "markdown",
   "metadata": {
    "pycharm": {
     "name": "#%% md\n"
    }
   },
   "source": [
    "### Getting sales by months"
   ]
  },
  {
   "cell_type": "code",
   "execution_count": 14,
   "metadata": {},
   "outputs": [],
   "source": [
    "sales_train['income'] = sales_train['item_cnt_day'] * sales_train['item_price']"
   ]
  },
  {
   "cell_type": "code",
   "execution_count": 19,
   "metadata": {
    "pycharm": {
     "is_executing": false
    }
   },
   "outputs": [],
   "source": [
    "monthly_train = sales_train.groupby(['date_block_num', 'shop_id', 'item_id']).agg({'item_cnt_day' : ['sum']})\n",
    "monthly_train.columns = ['item_cnt_month']\n",
    "\n",
    "monthly_train = pd.merge(train_data, monthly_train, how='left', on=['date_block_num', 'shop_id', 'item_id'])\n",
    "\n",
    "monthly_train['item_cnt_month'] = monthly_train['item_cnt_month'].fillna(0).clip(0, 20).astype(np.float16)"
   ]
  },
  {
   "cell_type": "code",
   "execution_count": 20,
   "metadata": {
    "pycharm": {
     "is_executing": false
    }
   },
   "outputs": [],
   "source": [
    "test['date_block_num'] = 34\n",
    "test['date_block_num'] = test['date_block_num'].astype(np.int8)\n",
    "test['shop_id'] = test['shop_id'].astype(np.int8)\n",
    "test['item_id'] = test['item_id'].astype(np.int16)"
   ]
  },
  {
   "cell_type": "code",
   "execution_count": 21,
   "metadata": {
    "pycharm": {
     "is_executing": false
    }
   },
   "outputs": [],
   "source": [
    "monthly_train = pd.concat([monthly_train, test[['date_block_num', 'shop_id', 'item_id']]], ignore_index=True, sort=False,\n",
    "                         keys=['date_block_num', 'shop_id', 'item_id'])\n",
    "monthly_train.fillna(0, inplace=True)"
   ]
  },
  {
   "cell_type": "code",
   "execution_count": 22,
   "metadata": {
    "pycharm": {
     "is_executing": false
    },
    "scrolled": false
   },
   "outputs": [
    {
     "data": {
      "text/html": [
       "<div>\n",
       "<style scoped>\n",
       "    .dataframe tbody tr th:only-of-type {\n",
       "        vertical-align: middle;\n",
       "    }\n",
       "\n",
       "    .dataframe tbody tr th {\n",
       "        vertical-align: top;\n",
       "    }\n",
       "\n",
       "    .dataframe thead th {\n",
       "        text-align: right;\n",
       "    }\n",
       "</style>\n",
       "<table border=\"1\" class=\"dataframe\">\n",
       "  <thead>\n",
       "    <tr style=\"text-align: right;\">\n",
       "      <th></th>\n",
       "      <th>date_block_num</th>\n",
       "      <th>shop_id</th>\n",
       "      <th>item_id</th>\n",
       "      <th>item_cnt_month</th>\n",
       "    </tr>\n",
       "  </thead>\n",
       "  <tbody>\n",
       "    <tr>\n",
       "      <th>0</th>\n",
       "      <td>0</td>\n",
       "      <td>2</td>\n",
       "      <td>19</td>\n",
       "      <td>0.0</td>\n",
       "    </tr>\n",
       "    <tr>\n",
       "      <th>1</th>\n",
       "      <td>0</td>\n",
       "      <td>2</td>\n",
       "      <td>27</td>\n",
       "      <td>1.0</td>\n",
       "    </tr>\n",
       "    <tr>\n",
       "      <th>2</th>\n",
       "      <td>0</td>\n",
       "      <td>2</td>\n",
       "      <td>28</td>\n",
       "      <td>0.0</td>\n",
       "    </tr>\n",
       "    <tr>\n",
       "      <th>3</th>\n",
       "      <td>0</td>\n",
       "      <td>2</td>\n",
       "      <td>29</td>\n",
       "      <td>0.0</td>\n",
       "    </tr>\n",
       "    <tr>\n",
       "      <th>4</th>\n",
       "      <td>0</td>\n",
       "      <td>2</td>\n",
       "      <td>32</td>\n",
       "      <td>0.0</td>\n",
       "    </tr>\n",
       "  </tbody>\n",
       "</table>\n",
       "</div>"
      ],
      "text/plain": [
       "   date_block_num  shop_id  item_id  item_cnt_month\n",
       "0               0        2       19             0.0\n",
       "1               0        2       27             1.0\n",
       "2               0        2       28             0.0\n",
       "3               0        2       29             0.0\n",
       "4               0        2       32             0.0"
      ]
     },
     "execution_count": 22,
     "metadata": {},
     "output_type": "execute_result"
    },
    {
     "data": {
      "text/html": [
       "<div>\n",
       "<style scoped>\n",
       "    .dataframe tbody tr th:only-of-type {\n",
       "        vertical-align: middle;\n",
       "    }\n",
       "\n",
       "    .dataframe tbody tr th {\n",
       "        vertical-align: top;\n",
       "    }\n",
       "\n",
       "    .dataframe thead th {\n",
       "        text-align: right;\n",
       "    }\n",
       "</style>\n",
       "<table border=\"1\" class=\"dataframe\">\n",
       "  <thead>\n",
       "    <tr style=\"text-align: right;\">\n",
       "      <th></th>\n",
       "      <th>shop_name</th>\n",
       "      <th>shop_id</th>\n",
       "    </tr>\n",
       "  </thead>\n",
       "  <tbody>\n",
       "    <tr>\n",
       "      <th>0</th>\n",
       "      <td>!Якутск Орджоникидзе, 56 фран</td>\n",
       "      <td>0</td>\n",
       "    </tr>\n",
       "    <tr>\n",
       "      <th>1</th>\n",
       "      <td>!Якутск ТЦ \"Центральный\" фран</td>\n",
       "      <td>1</td>\n",
       "    </tr>\n",
       "    <tr>\n",
       "      <th>2</th>\n",
       "      <td>Адыгея ТЦ \"Мега\"</td>\n",
       "      <td>2</td>\n",
       "    </tr>\n",
       "    <tr>\n",
       "      <th>3</th>\n",
       "      <td>Балашиха ТРК \"Октябрь-Киномир\"</td>\n",
       "      <td>3</td>\n",
       "    </tr>\n",
       "    <tr>\n",
       "      <th>4</th>\n",
       "      <td>Волжский ТЦ \"Волга Молл\"</td>\n",
       "      <td>4</td>\n",
       "    </tr>\n",
       "  </tbody>\n",
       "</table>\n",
       "</div>"
      ],
      "text/plain": [
       "                        shop_name  shop_id\n",
       "0   !Якутск Орджоникидзе, 56 фран        0\n",
       "1   !Якутск ТЦ \"Центральный\" фран        1\n",
       "2                Адыгея ТЦ \"Мега\"        2\n",
       "3  Балашиха ТРК \"Октябрь-Киномир\"        3\n",
       "4        Волжский ТЦ \"Волга Молл\"        4"
      ]
     },
     "execution_count": 22,
     "metadata": {},
     "output_type": "execute_result"
    }
   ],
   "source": [
    "monthly_train.head()\n",
    "shops.head()"
   ]
  },
  {
   "cell_type": "code",
   "execution_count": 23,
   "metadata": {
    "pycharm": {
     "is_executing": false
    }
   },
   "outputs": [],
   "source": [
    "monthly_train = pd.merge(monthly_train, items[['item_id', 'item_category_id']],\n",
    "                        how='left', on=['item_id'])\n",
    "\n",
    "monthly_train = pd.merge(monthly_train, item_categories, how='left', on='item_category_id')\n",
    "\n",
    "monthly_train = pd.merge(monthly_train, shops, how='left', on='shop_id')"
   ]
  },
  {
   "cell_type": "markdown",
   "metadata": {},
   "source": [
    "### Lagging "
   ]
  },
  {
   "cell_type": "code",
   "execution_count": 24,
   "metadata": {},
   "outputs": [],
   "source": [
    "# Generating lag features. Idea is that we shift colums values on some months\n",
    "# Arguments:\n",
    "#   data frame with data, lags, and needed columns\n",
    "#     - df : pd.DataFrame, lags : list, col : str\n",
    "# Returns:\n",
    "#   lagged by column data frame\n",
    "#     (pd.DataFrame)\n",
    "def lag_feature(df : pd.DataFrame, lags : list, col : str) -> pd.DataFrame:\n",
    "    # getting needed columns\n",
    "\n",
    "    temp = df[['date_block_num', 'shop_id', 'item_id', col]]\n",
    "    \n",
    "    for i in lags:\n",
    "        shifted = temp.copy()\n",
    "        \n",
    "        # specifing new lags column\n",
    "        shifted.columns = ['date_block_num', 'shop_id', 'item_id',\n",
    "                          col + '_lag_' + str(i)]\n",
    "        \n",
    "        # shifting month by i \n",
    "        shifted['date_block_num'] += i\n",
    "        \n",
    "        # merging data frame\n",
    "        df = pd.merge(df, shifted, on=['date_block_num', 'shop_id', 'item_id'],\n",
    "                     how='left')\n",
    "        del shifted\n",
    "    del temp\n",
    "        \n",
    "    return df"
   ]
  },
  {
   "cell_type": "code",
   "execution_count": 26,
   "metadata": {},
   "outputs": [],
   "source": [
    "monthly_train = lag_feature(monthly_train, [1, 2], 'item_cnt_month')"
   ]
  },
  {
   "cell_type": "markdown",
   "metadata": {},
   "source": [
    "### Mean encoding features"
   ]
  },
  {
   "cell_type": "code",
   "execution_count": 27,
   "metadata": {},
   "outputs": [],
   "source": [
    "def mean_encode(data, group_by_blocks, col_name, lags):\n",
    "    mean = monthly_train.groupby(group_by_blocks).agg({'item_cnt_month' : ['mean']})\n",
    "    mean.columns = [col_name]\n",
    "    mean.reset_index(inplace=True)\n",
    "\n",
    "    data = pd.merge(data, mean, on=group_by_blocks, how='left')\n",
    "\n",
    "    data[col_name] = data[col_name].astype('float16')\n",
    "\n",
    "    data = lag_feature(data, lags, col_name)\n",
    "    data.drop([col_name], axis=1, inplace=True)\n",
    "    \n",
    "    return data"
   ]
  },
  {
   "cell_type": "code",
   "execution_count": 28,
   "metadata": {},
   "outputs": [],
   "source": [
    "monthly_train = mean_encode(monthly_train, ['date_block_num', 'item_id'], 'date_item_mean', [1, 2])"
   ]
  },
  {
   "cell_type": "code",
   "execution_count": 29,
   "metadata": {},
   "outputs": [],
   "source": [
    "monthly_train = mean_encode(monthly_train, ['date_block_num', 'shop_id'], 'date_shop_mean', [1])"
   ]
  },
  {
   "cell_type": "code",
   "execution_count": 30,
   "metadata": {},
   "outputs": [],
   "source": [
    "monthly_train = mean_encode(monthly_train, ['date_block_num', 'item_category_id'], 'date_category_mean', [1])"
   ]
  },
  {
   "cell_type": "code",
   "execution_count": 31,
   "metadata": {},
   "outputs": [],
   "source": [
    "monthly_train = mean_encode(monthly_train, ['date_block_num', 'shop_id', 'item_category_id'], 'date_shop_cat_mean', [1])"
   ]
  },
  {
   "cell_type": "code",
   "execution_count": 32,
   "metadata": {},
   "outputs": [],
   "source": [
    "monthly_train = mean_encode(monthly_train, ['date_block_num'], 'date_mean', [1])"
   ]
  },
  {
   "cell_type": "code",
   "execution_count": 33,
   "metadata": {},
   "outputs": [],
   "source": [
    "monthly_train = monthly_train.fillna(0.0)"
   ]
  },
  {
   "cell_type": "code",
   "execution_count": 34,
   "metadata": {},
   "outputs": [],
   "source": [
    "monthly_train.to_csv(\"Data/Some_features_encoded.csv\")"
   ]
  },
  {
   "cell_type": "markdown",
   "metadata": {},
   "source": [
    "### Generating new features"
   ]
  },
  {
   "cell_type": "code",
   "execution_count": 4,
   "metadata": {},
   "outputs": [],
   "source": [
    "monthly_train = pd.read_csv('Data/Some_features_encoded.csv', index_col=0)"
   ]
  },
  {
   "cell_type": "code",
   "execution_count": 35,
   "metadata": {
    "pycharm": {
     "is_executing": false
    }
   },
   "outputs": [],
   "source": [
    "monthly_train.loc[monthly_train['shop_name'] == 'Сергиев Посад ТЦ \"7Я\"', 'shop_name'] = 'СергиевПосад ТЦ \"7Я\"'"
   ]
  },
  {
   "cell_type": "code",
   "execution_count": 36,
   "metadata": {
    "pycharm": {
     "is_executing": false
    }
   },
   "outputs": [],
   "source": [
    "monthly_train['category_name'] = monthly_train['item_category_name'].apply(lambda x: x.split()[0])\n",
    "monthly_train['city'] = monthly_train['shop_name'].apply(lambda x: x.split()[0])\n",
    "monthly_train['kind_of_shop'] = monthly_train['shop_name'].apply(lambda x: x.split()[1])"
   ]
  },
  {
   "cell_type": "code",
   "execution_count": 37,
   "metadata": {
    "pycharm": {
     "is_executing": false
    }
   },
   "outputs": [
    {
     "data": {
      "text/plain": [
       "array(['Кино', 'Игры', 'Музыка', 'Книги', 'Программы', 'Подарки',\n",
       "       'Аксессуары', 'Игровые', 'Карты', 'Доставка', 'Чистые', 'PC',\n",
       "       'Служебные', 'Элементы', 'Билеты'], dtype=object)"
      ]
     },
     "execution_count": 37,
     "metadata": {},
     "output_type": "execute_result"
    }
   ],
   "source": [
    "# taking a look at category names\n",
    "monthly_train['category_name'].unique()"
   ]
  },
  {
   "cell_type": "code",
   "execution_count": 38,
   "metadata": {
    "pycharm": {
     "is_executing": false
    }
   },
   "outputs": [
    {
     "data": {
      "text/plain": [
       "array(['Адыгея', 'Балашиха', 'Волжский', 'Воронеж', 'Жуковский',\n",
       "       'Интернет-магазин', 'Казань', 'Калуга', 'Коломна', 'Красноярск',\n",
       "       'Курск', 'Москва', 'Н.Новгород', 'Новосибирск', 'Омск',\n",
       "       'РостовНаДону', 'СПб', 'Самара', 'СергиевПосад', 'Сургут',\n",
       "       'Тюмень', 'Уфа', 'Химки', 'Чехов', 'Якутск', 'Ярославль',\n",
       "       'Вологда', 'Цифровой', 'Выездная', 'Томск', 'Мытищи'], dtype=object)"
      ]
     },
     "execution_count": 38,
     "metadata": {},
     "output_type": "execute_result"
    }
   ],
   "source": [
    "# taking a look at city\n",
    "monthly_train['city'].unique()"
   ]
  },
  {
   "cell_type": "code",
   "execution_count": 39,
   "metadata": {
    "pycharm": {
     "is_executing": false
    }
   },
   "outputs": [],
   "source": [
    "# replacing !Якутск with Якутск because this is the same city\n",
    "monthly_train['city'] = monthly_train['city'].apply(lambda x: re.sub('!Якутск', 'Якутск', x))"
   ]
  },
  {
   "cell_type": "code",
   "execution_count": 40,
   "metadata": {
    "pycharm": {
     "is_executing": false
    }
   },
   "outputs": [
    {
     "data": {
      "text/plain": [
       "array(['ТЦ', 'ТРК', '(Плехановская,', 'ТРЦ', 'ул.', 'ЧС', 'МТРЦ',\n",
       "       'Магазин', 'ТК', 'Орджоникидзе,', 'склад', 'Торговля',\n",
       "       '\"Распродажа\"'], dtype=object)"
      ]
     },
     "execution_count": 40,
     "metadata": {},
     "output_type": "execute_result"
    }
   ],
   "source": [
    "# taking a look at king of shop\n",
    "monthly_train['kind_of_shop'].unique()"
   ]
  },
  {
   "cell_type": "code",
   "execution_count": 42,
   "metadata": {
    "pycharm": {
     "is_executing": false
    }
   },
   "outputs": [],
   "source": [
    "monthly_train = monthly_train.drop(['item_category_id', 'item_category_name', 'shop_name'], axis=1)"
   ]
  },
  {
   "cell_type": "code",
   "execution_count": 7,
   "metadata": {
    "pycharm": {
     "is_executing": false,
     "name": "#%%\n"
    },
    "scrolled": true
   },
   "outputs": [
    {
     "data": {
      "text/html": [
       "<div>\n",
       "<style scoped>\n",
       "    .dataframe tbody tr th:only-of-type {\n",
       "        vertical-align: middle;\n",
       "    }\n",
       "\n",
       "    .dataframe tbody tr th {\n",
       "        vertical-align: top;\n",
       "    }\n",
       "\n",
       "    .dataframe thead th {\n",
       "        text-align: right;\n",
       "    }\n",
       "</style>\n",
       "<table border=\"1\" class=\"dataframe\">\n",
       "  <thead>\n",
       "    <tr style=\"text-align: right;\">\n",
       "      <th></th>\n",
       "      <th>date_block_num</th>\n",
       "      <th>shop_id</th>\n",
       "      <th>item_id</th>\n",
       "      <th>item_cnt_month</th>\n",
       "      <th>item_cnt_month_lag_1</th>\n",
       "      <th>item_cnt_month_lag_2</th>\n",
       "      <th>date_item_mean_lag_1</th>\n",
       "      <th>date_item_mean_lag_2</th>\n",
       "      <th>date_shop_mean_lag_1</th>\n",
       "      <th>date_category_mean_lag_1</th>\n",
       "      <th>date_shop_cat_mean_lag_1</th>\n",
       "      <th>date_mean_lag_1</th>\n",
       "      <th>category_name</th>\n",
       "      <th>city</th>\n",
       "      <th>kind_of_shop</th>\n",
       "      <th>month</th>\n",
       "      <th>item_price_mean</th>\n",
       "      <th>date_item_price_mean</th>\n",
       "    </tr>\n",
       "  </thead>\n",
       "  <tbody>\n",
       "    <tr>\n",
       "      <th>0</th>\n",
       "      <td>0</td>\n",
       "      <td>2</td>\n",
       "      <td>19</td>\n",
       "      <td>0.0</td>\n",
       "      <td>0.0</td>\n",
       "      <td>0.0</td>\n",
       "      <td>0.0</td>\n",
       "      <td>0.0</td>\n",
       "      <td>0.0</td>\n",
       "      <td>0.0</td>\n",
       "      <td>0.0</td>\n",
       "      <td>0.0</td>\n",
       "      <td>Кино</td>\n",
       "      <td>Адыгея</td>\n",
       "      <td>ТЦ</td>\n",
       "      <td>0</td>\n",
       "      <td>28.000000</td>\n",
       "      <td>28.000000</td>\n",
       "    </tr>\n",
       "    <tr>\n",
       "      <th>1</th>\n",
       "      <td>0</td>\n",
       "      <td>2</td>\n",
       "      <td>27</td>\n",
       "      <td>1.0</td>\n",
       "      <td>0.0</td>\n",
       "      <td>0.0</td>\n",
       "      <td>0.0</td>\n",
       "      <td>0.0</td>\n",
       "      <td>0.0</td>\n",
       "      <td>0.0</td>\n",
       "      <td>0.0</td>\n",
       "      <td>0.0</td>\n",
       "      <td>Игры</td>\n",
       "      <td>Адыгея</td>\n",
       "      <td>ТЦ</td>\n",
       "      <td>0</td>\n",
       "      <td>1461.228571</td>\n",
       "      <td>2325.000000</td>\n",
       "    </tr>\n",
       "    <tr>\n",
       "      <th>2</th>\n",
       "      <td>0</td>\n",
       "      <td>2</td>\n",
       "      <td>28</td>\n",
       "      <td>0.0</td>\n",
       "      <td>0.0</td>\n",
       "      <td>0.0</td>\n",
       "      <td>0.0</td>\n",
       "      <td>0.0</td>\n",
       "      <td>0.0</td>\n",
       "      <td>0.0</td>\n",
       "      <td>0.0</td>\n",
       "      <td>0.0</td>\n",
       "      <td>Игры</td>\n",
       "      <td>Адыгея</td>\n",
       "      <td>ТЦ</td>\n",
       "      <td>0</td>\n",
       "      <td>310.010465</td>\n",
       "      <td>549.000000</td>\n",
       "    </tr>\n",
       "    <tr>\n",
       "      <th>3</th>\n",
       "      <td>0</td>\n",
       "      <td>2</td>\n",
       "      <td>29</td>\n",
       "      <td>0.0</td>\n",
       "      <td>0.0</td>\n",
       "      <td>0.0</td>\n",
       "      <td>0.0</td>\n",
       "      <td>0.0</td>\n",
       "      <td>0.0</td>\n",
       "      <td>0.0</td>\n",
       "      <td>0.0</td>\n",
       "      <td>0.0</td>\n",
       "      <td>Игры</td>\n",
       "      <td>Адыгея</td>\n",
       "      <td>ТЦ</td>\n",
       "      <td>0</td>\n",
       "      <td>1759.285714</td>\n",
       "      <td>2397.500000</td>\n",
       "    </tr>\n",
       "    <tr>\n",
       "      <th>4</th>\n",
       "      <td>0</td>\n",
       "      <td>2</td>\n",
       "      <td>32</td>\n",
       "      <td>0.0</td>\n",
       "      <td>0.0</td>\n",
       "      <td>0.0</td>\n",
       "      <td>0.0</td>\n",
       "      <td>0.0</td>\n",
       "      <td>0.0</td>\n",
       "      <td>0.0</td>\n",
       "      <td>0.0</td>\n",
       "      <td>0.0</td>\n",
       "      <td>Кино</td>\n",
       "      <td>Адыгея</td>\n",
       "      <td>ТЦ</td>\n",
       "      <td>0</td>\n",
       "      <td>249.629240</td>\n",
       "      <td>338.110349</td>\n",
       "    </tr>\n",
       "  </tbody>\n",
       "</table>\n",
       "</div>"
      ],
      "text/plain": [
       "   date_block_num  shop_id  item_id  item_cnt_month  item_cnt_month_lag_1  \\\n",
       "0               0        2       19             0.0                   0.0   \n",
       "1               0        2       27             1.0                   0.0   \n",
       "2               0        2       28             0.0                   0.0   \n",
       "3               0        2       29             0.0                   0.0   \n",
       "4               0        2       32             0.0                   0.0   \n",
       "\n",
       "   item_cnt_month_lag_2  date_item_mean_lag_1  date_item_mean_lag_2  \\\n",
       "0                   0.0                   0.0                   0.0   \n",
       "1                   0.0                   0.0                   0.0   \n",
       "2                   0.0                   0.0                   0.0   \n",
       "3                   0.0                   0.0                   0.0   \n",
       "4                   0.0                   0.0                   0.0   \n",
       "\n",
       "   date_shop_mean_lag_1  date_category_mean_lag_1  date_shop_cat_mean_lag_1  \\\n",
       "0                   0.0                       0.0                       0.0   \n",
       "1                   0.0                       0.0                       0.0   \n",
       "2                   0.0                       0.0                       0.0   \n",
       "3                   0.0                       0.0                       0.0   \n",
       "4                   0.0                       0.0                       0.0   \n",
       "\n",
       "   date_mean_lag_1 category_name    city kind_of_shop  month  item_price_mean  \\\n",
       "0              0.0          Кино  Адыгея           ТЦ      0        28.000000   \n",
       "1              0.0          Игры  Адыгея           ТЦ      0      1461.228571   \n",
       "2              0.0          Игры  Адыгея           ТЦ      0       310.010465   \n",
       "3              0.0          Игры  Адыгея           ТЦ      0      1759.285714   \n",
       "4              0.0          Кино  Адыгея           ТЦ      0       249.629240   \n",
       "\n",
       "   date_item_price_mean  \n",
       "0             28.000000  \n",
       "1           2325.000000  \n",
       "2            549.000000  \n",
       "3           2397.500000  \n",
       "4            338.110349  "
      ]
     },
     "execution_count": 7,
     "metadata": {},
     "output_type": "execute_result"
    }
   ],
   "source": [
    "monthly_train.head()"
   ]
  },
  {
   "cell_type": "code",
   "execution_count": 44,
   "metadata": {},
   "outputs": [],
   "source": [
    "monthly_train['month'] = monthly_train['date_block_num'] % 12"
   ]
  },
  {
   "cell_type": "code",
   "execution_count": 2,
   "metadata": {},
   "outputs": [],
   "source": [
    "monthly_train = pd.read_csv('Data/almonst_full.csv', index_col=0)"
   ]
  },
  {
   "cell_type": "code",
   "execution_count": 6,
   "metadata": {},
   "outputs": [],
   "source": [
    "monthly_train = monthly_train.drop(['item_price_mean_x', 'item_price_mean_y'], axis=1)"
   ]
  },
  {
   "cell_type": "markdown",
   "metadata": {
    "pycharm": {
     "name": "#%% md\n"
    }
   },
   "source": [
    "### Encoding new features"
   ]
  },
  {
   "cell_type": "code",
   "execution_count": 8,
   "metadata": {
    "pycharm": {
     "is_executing": false
    }
   },
   "outputs": [],
   "source": [
    "label_encoder = LabelEncoder()"
   ]
  },
  {
   "cell_type": "code",
   "execution_count": 9,
   "metadata": {
    "pycharm": {
     "is_executing": true
    }
   },
   "outputs": [],
   "source": [
    "monthly_train['category_name'] = label_encoder.fit_transform(monthly_train['category_name'])\n",
    "monthly_train['city'] = label_encoder.fit_transform(monthly_train['city'])\n",
    "monthly_train['kind_of_shop'] = label_encoder.fit_transform(monthly_train['kind_of_shop'])"
   ]
  },
  {
   "cell_type": "code",
   "execution_count": 11,
   "metadata": {},
   "outputs": [],
   "source": [
    "monthly_train = monthly_train.drop('category_name', axis=1)"
   ]
  },
  {
   "cell_type": "code",
   "execution_count": 13,
   "metadata": {
    "pycharm": {
     "is_executing": true
    }
   },
   "outputs": [],
   "source": [
    "monthly_train['date_block_num'] = monthly_train['date_block_num'].astype('uint8')\n",
    "monthly_train['shop_id'] = monthly_train['shop_id'].astype('uint16')\n",
    "monthly_train['item_id'] = monthly_train['item_id'].astype('uint16')\n",
    "monthly_train['city'] = monthly_train['shop_id'].astype('uint16')\n",
    "monthly_train['kind_of_shop'] = monthly_train['kind_of_shop'].astype('uint16')\n"
   ]
  },
  {
   "cell_type": "code",
   "execution_count": 14,
   "metadata": {},
   "outputs": [],
   "source": [
    "monthly_train.to_csv('Data/Prepared_data.csv')"
   ]
  },
  {
   "cell_type": "markdown",
   "metadata": {
    "pycharm": {
     "is_executing": true,
     "name": "#%%\n"
    }
   },
   "source": [
    "## Making modeling"
   ]
  },
  {
   "cell_type": "markdown",
   "metadata": {},
   "source": [
    "#### Xgb model"
   ]
  },
  {
   "cell_type": "code",
   "execution_count": 2,
   "metadata": {},
   "outputs": [],
   "source": [
    "monthly_train = pd.read_csv('Data/Prepared_data.csv', index_col=0)"
   ]
  },
  {
   "cell_type": "code",
   "execution_count": 3,
   "metadata": {},
   "outputs": [],
   "source": [
    "monthly_train = monthly_train.fillna(0.0)"
   ]
  },
  {
   "cell_type": "code",
   "execution_count": 4,
   "metadata": {},
   "outputs": [
    {
     "data": {
      "text/html": [
       "<div>\n",
       "<style scoped>\n",
       "    .dataframe tbody tr th:only-of-type {\n",
       "        vertical-align: middle;\n",
       "    }\n",
       "\n",
       "    .dataframe tbody tr th {\n",
       "        vertical-align: top;\n",
       "    }\n",
       "\n",
       "    .dataframe thead th {\n",
       "        text-align: right;\n",
       "    }\n",
       "</style>\n",
       "<table border=\"1\" class=\"dataframe\">\n",
       "  <thead>\n",
       "    <tr style=\"text-align: right;\">\n",
       "      <th></th>\n",
       "      <th>date_block_num</th>\n",
       "      <th>shop_id</th>\n",
       "      <th>item_id</th>\n",
       "      <th>item_cnt_month</th>\n",
       "      <th>item_cnt_month_lag_1</th>\n",
       "      <th>item_cnt_month_lag_2</th>\n",
       "      <th>date_item_mean_lag_1</th>\n",
       "      <th>date_item_mean_lag_2</th>\n",
       "      <th>date_shop_mean_lag_1</th>\n",
       "      <th>date_category_mean_lag_1</th>\n",
       "      <th>date_shop_cat_mean_lag_1</th>\n",
       "      <th>date_mean_lag_1</th>\n",
       "      <th>city</th>\n",
       "      <th>kind_of_shop</th>\n",
       "      <th>month</th>\n",
       "      <th>item_price_mean</th>\n",
       "      <th>date_item_price_mean</th>\n",
       "    </tr>\n",
       "  </thead>\n",
       "  <tbody>\n",
       "    <tr>\n",
       "      <th>11127999</th>\n",
       "      <td>34</td>\n",
       "      <td>45</td>\n",
       "      <td>18454</td>\n",
       "      <td>0.0</td>\n",
       "      <td>1.0</td>\n",
       "      <td>0.0</td>\n",
       "      <td>0.04544</td>\n",
       "      <td>0.02325</td>\n",
       "      <td>0.1267</td>\n",
       "      <td>0.1969</td>\n",
       "      <td>0.12680</td>\n",
       "      <td>0.2585</td>\n",
       "      <td>45</td>\n",
       "      <td>8</td>\n",
       "      <td>10</td>\n",
       "      <td>188.681084</td>\n",
       "      <td>0.0</td>\n",
       "    </tr>\n",
       "    <tr>\n",
       "      <th>11128000</th>\n",
       "      <td>34</td>\n",
       "      <td>45</td>\n",
       "      <td>16188</td>\n",
       "      <td>0.0</td>\n",
       "      <td>0.0</td>\n",
       "      <td>0.0</td>\n",
       "      <td>0.02272</td>\n",
       "      <td>0.06976</td>\n",
       "      <td>0.1267</td>\n",
       "      <td>0.1559</td>\n",
       "      <td>0.09450</td>\n",
       "      <td>0.2585</td>\n",
       "      <td>45</td>\n",
       "      <td>8</td>\n",
       "      <td>10</td>\n",
       "      <td>1256.975000</td>\n",
       "      <td>0.0</td>\n",
       "    </tr>\n",
       "    <tr>\n",
       "      <th>11128001</th>\n",
       "      <td>34</td>\n",
       "      <td>45</td>\n",
       "      <td>15757</td>\n",
       "      <td>0.0</td>\n",
       "      <td>0.0</td>\n",
       "      <td>0.0</td>\n",
       "      <td>0.11365</td>\n",
       "      <td>0.06976</td>\n",
       "      <td>0.1267</td>\n",
       "      <td>0.1969</td>\n",
       "      <td>0.12680</td>\n",
       "      <td>0.2585</td>\n",
       "      <td>45</td>\n",
       "      <td>8</td>\n",
       "      <td>10</td>\n",
       "      <td>198.113208</td>\n",
       "      <td>0.0</td>\n",
       "    </tr>\n",
       "    <tr>\n",
       "      <th>11128002</th>\n",
       "      <td>34</td>\n",
       "      <td>45</td>\n",
       "      <td>19648</td>\n",
       "      <td>0.0</td>\n",
       "      <td>0.0</td>\n",
       "      <td>0.0</td>\n",
       "      <td>0.04544</td>\n",
       "      <td>0.06976</td>\n",
       "      <td>0.1267</td>\n",
       "      <td>0.2208</td>\n",
       "      <td>0.08374</td>\n",
       "      <td>0.2585</td>\n",
       "      <td>45</td>\n",
       "      <td>8</td>\n",
       "      <td>10</td>\n",
       "      <td>98.096296</td>\n",
       "      <td>0.0</td>\n",
       "    </tr>\n",
       "    <tr>\n",
       "      <th>11128003</th>\n",
       "      <td>34</td>\n",
       "      <td>45</td>\n",
       "      <td>969</td>\n",
       "      <td>0.0</td>\n",
       "      <td>0.0</td>\n",
       "      <td>0.0</td>\n",
       "      <td>0.06820</td>\n",
       "      <td>0.11630</td>\n",
       "      <td>0.1267</td>\n",
       "      <td>0.2568</td>\n",
       "      <td>0.12820</td>\n",
       "      <td>0.2585</td>\n",
       "      <td>45</td>\n",
       "      <td>8</td>\n",
       "      <td>10</td>\n",
       "      <td>502.297061</td>\n",
       "      <td>0.0</td>\n",
       "    </tr>\n",
       "  </tbody>\n",
       "</table>\n",
       "</div>"
      ],
      "text/plain": [
       "          date_block_num  shop_id  item_id  item_cnt_month  \\\n",
       "11127999              34       45    18454             0.0   \n",
       "11128000              34       45    16188             0.0   \n",
       "11128001              34       45    15757             0.0   \n",
       "11128002              34       45    19648             0.0   \n",
       "11128003              34       45      969             0.0   \n",
       "\n",
       "          item_cnt_month_lag_1  item_cnt_month_lag_2  date_item_mean_lag_1  \\\n",
       "11127999                   1.0                   0.0               0.04544   \n",
       "11128000                   0.0                   0.0               0.02272   \n",
       "11128001                   0.0                   0.0               0.11365   \n",
       "11128002                   0.0                   0.0               0.04544   \n",
       "11128003                   0.0                   0.0               0.06820   \n",
       "\n",
       "          date_item_mean_lag_2  date_shop_mean_lag_1  \\\n",
       "11127999               0.02325                0.1267   \n",
       "11128000               0.06976                0.1267   \n",
       "11128001               0.06976                0.1267   \n",
       "11128002               0.06976                0.1267   \n",
       "11128003               0.11630                0.1267   \n",
       "\n",
       "          date_category_mean_lag_1  date_shop_cat_mean_lag_1  date_mean_lag_1  \\\n",
       "11127999                    0.1969                   0.12680           0.2585   \n",
       "11128000                    0.1559                   0.09450           0.2585   \n",
       "11128001                    0.1969                   0.12680           0.2585   \n",
       "11128002                    0.2208                   0.08374           0.2585   \n",
       "11128003                    0.2568                   0.12820           0.2585   \n",
       "\n",
       "          city  kind_of_shop  month  item_price_mean  date_item_price_mean  \n",
       "11127999    45             8     10       188.681084                   0.0  \n",
       "11128000    45             8     10      1256.975000                   0.0  \n",
       "11128001    45             8     10       198.113208                   0.0  \n",
       "11128002    45             8     10        98.096296                   0.0  \n",
       "11128003    45             8     10       502.297061                   0.0  "
      ]
     },
     "execution_count": 4,
     "metadata": {},
     "output_type": "execute_result"
    }
   ],
   "source": [
    "monthly_train.tail()"
   ]
  },
  {
   "cell_type": "code",
   "execution_count": 5,
   "metadata": {
    "pycharm": {
     "is_executing": true
    }
   },
   "outputs": [],
   "source": [
    "X_train = monthly_train[monthly_train.date_block_num < 33].drop(['item_cnt_month'], axis=1)\n",
    "y_train = monthly_train[monthly_train.date_block_num < 33]['item_cnt_month']\n",
    "\n",
    "X_val = monthly_train[monthly_train.date_block_num == 33].drop(['item_cnt_month'], axis=1)\n",
    "y_val = monthly_train[monthly_train.date_block_num == 33]['item_cnt_month']\n",
    "\n",
    "X_test = monthly_train[monthly_train.date_block_num == 34].drop(['item_cnt_month'], axis=1)"
   ]
  },
  {
   "cell_type": "code",
   "execution_count": 6,
   "metadata": {
    "pycharm": {
     "is_executing": true
    }
   },
   "outputs": [
    {
     "name": "stdout",
     "output_type": "stream",
     "text": [
      "[17:41:30] WARNING: /workspace/src/gbm/gbtree.cc:138: Tree method is automatically selected to be 'approx' for faster speed. To use old behavior (exact greedy algorithm on single machine), set tree_method to 'exact'.\n",
      "[0]\tvalidation_0-rmse:1.15799\tvalidation_1-rmse:1.09231\n",
      "Multiple eval metrics have been passed: 'validation_1-rmse' will be used for early stopping.\n",
      "\n",
      "Will train until validation_1-rmse hasn't improved in 10 rounds.\n",
      "[1]\tvalidation_0-rmse:1.08402\tvalidation_1-rmse:1.04498\n",
      "[2]\tvalidation_0-rmse:1.04398\tvalidation_1-rmse:1.01574\n",
      "[3]\tvalidation_0-rmse:1.01405\tvalidation_1-rmse:0.99721\n",
      "[4]\tvalidation_0-rmse:0.98912\tvalidation_1-rmse:0.98153\n",
      "[5]\tvalidation_0-rmse:0.97147\tvalidation_1-rmse:0.97171\n",
      "[6]\tvalidation_0-rmse:0.95950\tvalidation_1-rmse:0.96627\n",
      "[7]\tvalidation_0-rmse:0.95091\tvalidation_1-rmse:0.96165\n",
      "[8]\tvalidation_0-rmse:0.94469\tvalidation_1-rmse:0.95923\n",
      "[9]\tvalidation_0-rmse:0.94043\tvalidation_1-rmse:0.95713\n",
      "[10]\tvalidation_0-rmse:0.93686\tvalidation_1-rmse:0.95548\n",
      "[11]\tvalidation_0-rmse:0.93367\tvalidation_1-rmse:0.95469\n",
      "[12]\tvalidation_0-rmse:0.93130\tvalidation_1-rmse:0.95387\n",
      "[13]\tvalidation_0-rmse:0.92769\tvalidation_1-rmse:0.95393\n",
      "[14]\tvalidation_0-rmse:0.92607\tvalidation_1-rmse:0.95413\n",
      "[15]\tvalidation_0-rmse:0.92497\tvalidation_1-rmse:0.95422\n",
      "[16]\tvalidation_0-rmse:0.92351\tvalidation_1-rmse:0.95377\n",
      "[17]\tvalidation_0-rmse:0.92230\tvalidation_1-rmse:0.95368\n",
      "[18]\tvalidation_0-rmse:0.92084\tvalidation_1-rmse:0.95406\n",
      "[19]\tvalidation_0-rmse:0.91933\tvalidation_1-rmse:0.95407\n",
      "[20]\tvalidation_0-rmse:0.91793\tvalidation_1-rmse:0.95384\n",
      "[21]\tvalidation_0-rmse:0.91667\tvalidation_1-rmse:0.95343\n",
      "[22]\tvalidation_0-rmse:0.91588\tvalidation_1-rmse:0.95316\n",
      "[23]\tvalidation_0-rmse:0.91498\tvalidation_1-rmse:0.95301\n",
      "[24]\tvalidation_0-rmse:0.91395\tvalidation_1-rmse:0.95312\n",
      "[25]\tvalidation_0-rmse:0.91268\tvalidation_1-rmse:0.95468\n",
      "[26]\tvalidation_0-rmse:0.91134\tvalidation_1-rmse:0.95506\n",
      "[27]\tvalidation_0-rmse:0.91047\tvalidation_1-rmse:0.95539\n",
      "[28]\tvalidation_0-rmse:0.90979\tvalidation_1-rmse:0.95497\n",
      "[29]\tvalidation_0-rmse:0.90919\tvalidation_1-rmse:0.95510\n",
      "[30]\tvalidation_0-rmse:0.90780\tvalidation_1-rmse:0.95458\n",
      "[31]\tvalidation_0-rmse:0.90653\tvalidation_1-rmse:0.95422\n",
      "[32]\tvalidation_0-rmse:0.90603\tvalidation_1-rmse:0.95393\n",
      "[33]\tvalidation_0-rmse:0.90498\tvalidation_1-rmse:0.95327\n",
      "Stopping. Best iteration:\n",
      "[23]\tvalidation_0-rmse:0.91498\tvalidation_1-rmse:0.95301\n",
      "\n"
     ]
    },
    {
     "data": {
      "text/plain": [
       "XGBRegressor(base_score=0.5, booster=None, colsample_bylevel=1,\n",
       "             colsample_bynode=1, colsample_bytree=0.8, eta=0.2, gamma=0,\n",
       "             gpu_id=-1, importance_type='gain', interaction_constraints=None,\n",
       "             learning_rate=0.200000003, max_delta_step=0, max_depth=8,\n",
       "             min_child_weight=300, missing=nan, monotone_constraints=None,\n",
       "             n_estimators=1000, n_jobs=0, num_parallel_tree=1,\n",
       "             objective='reg:squarederror', random_state=42, reg_alpha=0,\n",
       "             reg_lambda=1, scale_pos_weight=1, seed=42, subsample=0.8,\n",
       "             tree_method=None, validate_parameters=False, verbosity=None)"
      ]
     },
     "execution_count": 6,
     "metadata": {},
     "output_type": "execute_result"
    }
   ],
   "source": [
    "model = xgb.XGBRegressor(max_depth=8,\n",
    "                        n_estimators=1000,\n",
    "                        min_child_weight=300,\n",
    "                        colsample_bytree=0.8,\n",
    "                        subsample=0.8,\n",
    "                        eta=0.2,\n",
    "                        seed=42)\n",
    "\n",
    "model.fit(X_train, y_train, eval_metric='rmse',\n",
    "         eval_set=[(X_train, y_train), (X_val, y_val)], \n",
    "         verbose=True,\n",
    "         early_stopping_rounds = 10)"
   ]
  },
  {
   "cell_type": "code",
   "execution_count": 9,
   "metadata": {},
   "outputs": [],
   "source": [
    "y_val_pred = model.predict(X_val)"
   ]
  },
  {
   "cell_type": "code",
   "execution_count": 10,
   "metadata": {},
   "outputs": [],
   "source": [
    "np.save('Data/y_val_xgb', y_val_pred)"
   ]
  },
  {
   "cell_type": "code",
   "execution_count": 32,
   "metadata": {},
   "outputs": [],
   "source": [
    "test = pd.read_csv('Data/test.csv')"
   ]
  },
  {
   "cell_type": "code",
   "execution_count": 8,
   "metadata": {
    "pycharm": {
     "is_executing": true,
     "name": "#%%\n"
    }
   },
   "outputs": [],
   "source": [
    "y_test = model.predict(X_test).clip(0, 20)"
   ]
  },
  {
   "cell_type": "code",
   "execution_count": 9,
   "metadata": {
    "pycharm": {
     "is_executing": true
    }
   },
   "outputs": [],
   "source": [
    "submission = pd.DataFrame({\n",
    "    'ID' : test.index,\n",
    "    'item_cnt_month' : y_test\n",
    "})"
   ]
  },
  {
   "cell_type": "code",
   "execution_count": 10,
   "metadata": {
    "pycharm": {
     "is_executing": true
    }
   },
   "outputs": [],
   "source": [
    "submission.to_csv('xgb_submission.csv', index=False)"
   ]
  },
  {
   "cell_type": "code",
   "execution_count": 11,
   "metadata": {
    "pycharm": {
     "is_executing": true
    }
   },
   "outputs": [],
   "source": [
    "del model"
   ]
  },
  {
   "cell_type": "markdown",
   "metadata": {
    "pycharm": {
     "is_executing": true,
     "name": "#%%\n"
    }
   },
   "source": [
    "#### LSTM model"
   ]
  },
  {
   "cell_type": "code",
   "execution_count": 2,
   "metadata": {},
   "outputs": [],
   "source": [
    "monthly_train = pd.read_csv('Data/Prepared_data.csv', index_col=0)"
   ]
  },
  {
   "cell_type": "code",
   "execution_count": 3,
   "metadata": {},
   "outputs": [],
   "source": [
    "monthly_train = monthly_train.fillna(0.0)"
   ]
  },
  {
   "cell_type": "code",
   "execution_count": 4,
   "metadata": {},
   "outputs": [],
   "source": [
    "X_train = monthly_train[monthly_train.date_block_num < 33].drop(['item_cnt_month'], axis=1)\n",
    "y_train = monthly_train[monthly_train.date_block_num < 33]['item_cnt_month']\n",
    "\n",
    "X_val = monthly_train[monthly_train.date_block_num == 33].drop(['item_cnt_month'], axis=1)\n",
    "y_val = monthly_train[monthly_train.date_block_num == 33]['item_cnt_month']\n",
    "\n",
    "X_test = monthly_train[monthly_train.date_block_num == 34].drop(['item_cnt_month'], axis=1)"
   ]
  },
  {
   "cell_type": "code",
   "execution_count": 5,
   "metadata": {},
   "outputs": [],
   "source": [
    "from keras import backend as K\n",
    "\n",
    "def root_mean_squared_error(y_true, y_pred):\n",
    "        return K.sqrt(K.mean(K.square(y_pred - y_true), axis=-1)) "
   ]
  },
  {
   "cell_type": "code",
   "execution_count": 5,
   "metadata": {},
   "outputs": [],
   "source": [
    "model_lstm = Sequential()\n",
    "model_lstm.add(LSTM(15, input_shape=(1, 16)))\n",
    "model_lstm.add(Dense(1))\n",
    "model_lstm.compile(loss='mse', optimizer='adam', metrics=['accuracy'])"
   ]
  },
  {
   "cell_type": "code",
   "execution_count": 6,
   "metadata": {},
   "outputs": [],
   "source": [
    "scaler = MinMaxScaler(feature_range=(-1, 1))\n",
    "\n",
    "X_train_scales = scaler.fit_transform(X_train)\n",
    "X_val_scales = scaler.fit_transform(X_val)\n",
    "X_test_scales = scaler.fit_transform(X_test)"
   ]
  },
  {
   "cell_type": "code",
   "execution_count": 7,
   "metadata": {},
   "outputs": [],
   "source": [
    "X_train_reshapes = X_train_scales.reshape((X_train_scales.shape[0], 1, X_train_scales.shape[1]))\n",
    "X_val_reshapes = X_val_scales.reshape((X_val_scales.shape[0], 1, X_val_scales.shape[1]))\n",
    "X_test_reshapes = X_test_scales.reshape((X_test_scales.shape[0], 1, X_test_scales.shape[1]))"
   ]
  },
  {
   "cell_type": "code",
   "execution_count": 8,
   "metadata": {},
   "outputs": [
    {
     "name": "stdout",
     "output_type": "stream",
     "text": [
      "Train on 10675632 samples, validate on 238172 samples\n",
      "Epoch 1/20\n",
      "10675632/10675632 [==============================] - 19s 2us/step - loss: 1.0343 - accuracy: 0.8154 - val_loss: 4.7588 - val_accuracy: 0.1778\n",
      "Epoch 2/20\n",
      "10675632/10675632 [==============================] - 18s 2us/step - loss: 0.9582 - accuracy: 0.8207 - val_loss: 2.4739 - val_accuracy: 0.3120\n",
      "Epoch 3/20\n",
      "10675632/10675632 [==============================] - 18s 2us/step - loss: 0.9458 - accuracy: 0.8214 - val_loss: 1.6069 - val_accuracy: 0.3463\n",
      "Epoch 4/20\n",
      "10675632/10675632 [==============================] - 18s 2us/step - loss: 0.9398 - accuracy: 0.8218 - val_loss: 1.3011 - val_accuracy: 0.4164\n",
      "Epoch 5/20\n",
      "10675632/10675632 [==============================] - 18s 2us/step - loss: 0.9355 - accuracy: 0.8219 - val_loss: 1.1623 - val_accuracy: 0.5556\n",
      "Epoch 6/20\n",
      "10675632/10675632 [==============================] - 18s 2us/step - loss: 0.9321 - accuracy: 0.8219 - val_loss: 1.0720 - val_accuracy: 0.7104\n",
      "Epoch 7/20\n",
      "10675632/10675632 [==============================] - 18s 2us/step - loss: 0.9295 - accuracy: 0.8219 - val_loss: 1.0101 - val_accuracy: 0.7823\n",
      "Epoch 8/20\n",
      "10675632/10675632 [==============================] - 18s 2us/step - loss: 0.9274 - accuracy: 0.8221 - val_loss: 0.9801 - val_accuracy: 0.8110\n",
      "Epoch 9/20\n",
      "10675632/10675632 [==============================] - 19s 2us/step - loss: 0.9259 - accuracy: 0.8223 - val_loss: 0.9636 - val_accuracy: 0.8230\n",
      "Epoch 10/20\n",
      "10675632/10675632 [==============================] - 18s 2us/step - loss: 0.9246 - accuracy: 0.8224 - val_loss: 0.9601 - val_accuracy: 0.8272\n",
      "Epoch 11/20\n",
      "10675632/10675632 [==============================] - 19s 2us/step - loss: 0.9236 - accuracy: 0.8225 - val_loss: 0.9584 - val_accuracy: 0.8292\n",
      "Epoch 12/20\n",
      "10675632/10675632 [==============================] - 19s 2us/step - loss: 0.9228 - accuracy: 0.8227 - val_loss: 0.9585 - val_accuracy: 0.8309\n",
      "Epoch 13/20\n",
      "10675632/10675632 [==============================] - 19s 2us/step - loss: 0.9221 - accuracy: 0.8231 - val_loss: 0.9575 - val_accuracy: 0.8320\n",
      "Epoch 14/20\n",
      "10675632/10675632 [==============================] - 19s 2us/step - loss: 0.9215 - accuracy: 0.8232 - val_loss: 0.9566 - val_accuracy: 0.8328\n",
      "Epoch 15/20\n",
      "10675632/10675632 [==============================] - 19s 2us/step - loss: 0.9209 - accuracy: 0.8232 - val_loss: 0.9532 - val_accuracy: 0.8345\n",
      "Epoch 16/20\n",
      "10675632/10675632 [==============================] - 19s 2us/step - loss: 0.9203 - accuracy: 0.8231 - val_loss: 0.9489 - val_accuracy: 0.8363\n",
      "Epoch 17/20\n",
      "10675632/10675632 [==============================] - 19s 2us/step - loss: 0.9199 - accuracy: 0.8231 - val_loss: 0.9458 - val_accuracy: 0.8381\n",
      "Epoch 18/20\n",
      "10675632/10675632 [==============================] - 19s 2us/step - loss: 0.9195 - accuracy: 0.8231 - val_loss: 0.9437 - val_accuracy: 0.8396\n",
      "Epoch 19/20\n",
      "10675632/10675632 [==============================] - 19s 2us/step - loss: 0.9192 - accuracy: 0.8232 - val_loss: 0.9426 - val_accuracy: 0.8412\n",
      "Epoch 20/20\n",
      "10675632/10675632 [==============================] - 19s 2us/step - loss: 0.9188 - accuracy: 0.8233 - val_loss: 0.9422 - val_accuracy: 0.8432\n"
     ]
    }
   ],
   "source": [
    "history = model_lstm.fit(X_train_reshapes, y_train, validation_data=(X_val_reshapes, y_val),\n",
    "                        epochs=20, batch_size=1000, verbose=1, shuffle=False)"
   ]
  },
  {
   "cell_type": "code",
   "execution_count": 10,
   "metadata": {},
   "outputs": [],
   "source": [
    "y_val_pred = model_lstm.predict(X_val_reshapes)"
   ]
  },
  {
   "cell_type": "code",
   "execution_count": 11,
   "metadata": {},
   "outputs": [],
   "source": [
    "np.save('Data/y_val_lstm', y_val_pred)"
   ]
  },
  {
   "cell_type": "code",
   "execution_count": 14,
   "metadata": {},
   "outputs": [],
   "source": [
    "y_test = model_lstm.predict(X_test_reshapes).clip(0, 20)"
   ]
  },
  {
   "cell_type": "code",
   "execution_count": 22,
   "metadata": {},
   "outputs": [],
   "source": [
    "test = pd.read_csv('Data/test.csv')"
   ]
  },
  {
   "cell_type": "code",
   "execution_count": 19,
   "metadata": {},
   "outputs": [],
   "source": [
    "y_test = [record[0] for record in y_test]"
   ]
  },
  {
   "cell_type": "code",
   "execution_count": 23,
   "metadata": {},
   "outputs": [],
   "source": [
    "submission = pd.DataFrame({\n",
    "    'ID' : test.index,\n",
    "    'item_cnt_month' : y_test\n",
    "})"
   ]
  },
  {
   "cell_type": "code",
   "execution_count": 24,
   "metadata": {},
   "outputs": [],
   "source": [
    "submission.to_csv('Data/LSTM_submission.csv')"
   ]
  },
  {
   "cell_type": "markdown",
   "metadata": {},
   "source": [
    "#### Linear regression model"
   ]
  },
  {
   "cell_type": "code",
   "execution_count": 2,
   "metadata": {},
   "outputs": [],
   "source": [
    "monthly_train = pd.read_csv('Data/Prepared_data.csv', index_col=0)"
   ]
  },
  {
   "cell_type": "code",
   "execution_count": 3,
   "metadata": {},
   "outputs": [],
   "source": [
    "monthly_train = monthly_train.fillna(0.0)"
   ]
  },
  {
   "cell_type": "code",
   "execution_count": 4,
   "metadata": {},
   "outputs": [],
   "source": [
    "X_train = monthly_train[monthly_train.date_block_num < 33].drop(['item_cnt_month'], axis=1)\n",
    "y_train = monthly_train[monthly_train.date_block_num < 33]['item_cnt_month']\n",
    "\n",
    "X_val = monthly_train[monthly_train.date_block_num == 33].drop(['item_cnt_month'], axis=1)\n",
    "y_val = monthly_train[monthly_train.date_block_num == 33]['item_cnt_month']\n",
    "\n",
    "X_test = monthly_train[monthly_train.date_block_num == 34].drop(['item_cnt_month'], axis=1)"
   ]
  },
  {
   "cell_type": "code",
   "execution_count": 5,
   "metadata": {},
   "outputs": [],
   "source": [
    "model_lr = LinearRegression().fit(X_train, y_train)"
   ]
  },
  {
   "cell_type": "code",
   "execution_count": 6,
   "metadata": {},
   "outputs": [],
   "source": [
    "y_val_pred = model_lr.predict(X_val)"
   ]
  },
  {
   "cell_type": "code",
   "execution_count": 7,
   "metadata": {},
   "outputs": [
    {
     "name": "stdout",
     "output_type": "stream",
     "text": [
      "0.26349261535362667\n"
     ]
    }
   ],
   "source": [
    "print(r2_score(y_val, y_val_pred))"
   ]
  },
  {
   "cell_type": "code",
   "execution_count": 8,
   "metadata": {},
   "outputs": [
    {
     "name": "stdout",
     "output_type": "stream",
     "text": [
      "0.950711181017935\n"
     ]
    }
   ],
   "source": [
    "print(mean_squared_error(y_val, y_val_pred))"
   ]
  },
  {
   "cell_type": "code",
   "execution_count": 9,
   "metadata": {},
   "outputs": [],
   "source": [
    "y_test = model_lr.predict(X_test)"
   ]
  },
  {
   "cell_type": "code",
   "execution_count": 12,
   "metadata": {},
   "outputs": [],
   "source": [
    "test = pd.read_csv('Data/test.csv')"
   ]
  },
  {
   "cell_type": "code",
   "execution_count": 10,
   "metadata": {},
   "outputs": [
    {
     "data": {
      "text/plain": [
       "array([ 0.26845817,  0.20084898,  1.02359446, ...,  0.04567058,\n",
       "       -0.00423424,  0.0463804 ])"
      ]
     },
     "execution_count": 10,
     "metadata": {},
     "output_type": "execute_result"
    }
   ],
   "source": [
    "y_test"
   ]
  },
  {
   "cell_type": "code",
   "execution_count": 13,
   "metadata": {},
   "outputs": [],
   "source": [
    "submission = pd.DataFrame({\n",
    "    'ID' : test.index,\n",
    "    'item_cnt_month' : y_test\n",
    "})"
   ]
  },
  {
   "cell_type": "code",
   "execution_count": 14,
   "metadata": {},
   "outputs": [],
   "source": [
    "submission.to_csv('Data/Lr.csv')"
   ]
  },
  {
   "cell_type": "code",
   "execution_count": 16,
   "metadata": {},
   "outputs": [],
   "source": [
    "np.save('Data/y_val_lr', y_val_pred)"
   ]
  },
  {
   "cell_type": "markdown",
   "metadata": {},
   "source": [
    "### Making ensemble"
   ]
  },
  {
   "cell_type": "code",
   "execution_count": 2,
   "metadata": {},
   "outputs": [],
   "source": [
    "monthly_train = pd.read_csv('Data/Prepared_data.csv', index_col=0)"
   ]
  },
  {
   "cell_type": "code",
   "execution_count": 3,
   "metadata": {},
   "outputs": [],
   "source": [
    "monthly_train = monthly_train.fillna(0.0)"
   ]
  },
  {
   "cell_type": "code",
   "execution_count": 4,
   "metadata": {},
   "outputs": [],
   "source": [
    "X_train = monthly_train[monthly_train.date_block_num < 33].drop(['item_cnt_month'], axis=1)\n",
    "y_train = monthly_train[monthly_train.date_block_num < 33]['item_cnt_month']\n",
    "\n",
    "X_val = monthly_train[monthly_train.date_block_num == 33].drop(['item_cnt_month'], axis=1)\n",
    "y_val = monthly_train[monthly_train.date_block_num == 33]['item_cnt_month']\n",
    "\n",
    "X_test = monthly_train[monthly_train.date_block_num == 34].drop(['item_cnt_month'], axis=1)"
   ]
  },
  {
   "cell_type": "code",
   "execution_count": 5,
   "metadata": {},
   "outputs": [],
   "source": [
    "y_val_lstm = np.load('Data/y_val_lstm.npy')\n",
    "y_val_xgb = np.load('Data/y_val_xgb.npy')\n",
    "y_val_lr = np.load('Data/y_val_lr.npy')"
   ]
  },
  {
   "cell_type": "code",
   "execution_count": 8,
   "metadata": {},
   "outputs": [
    {
     "data": {
      "text/plain": [
       "array([[0.04018569],\n",
       "       [0.05603868],\n",
       "       [0.2848333 ],\n",
       "       ...,\n",
       "       [0.06867206],\n",
       "       [0.0514484 ],\n",
       "       [0.14212394]], dtype=float32)"
      ]
     },
     "execution_count": 8,
     "metadata": {},
     "output_type": "execute_result"
    }
   ],
   "source": [
    "y_val_lstm"
   ]
  },
  {
   "cell_type": "code",
   "execution_count": 9,
   "metadata": {},
   "outputs": [],
   "source": [
    "y_val_lstm = [x[0] for x in y_val_lstm]"
   ]
  },
  {
   "cell_type": "code",
   "execution_count": 23,
   "metadata": {},
   "outputs": [],
   "source": [
    "train = pd.DataFrame({'lstm' : y_val_lstm, 'xgb' : y_val_xgb, 'lr' : y_val_lr})"
   ]
  },
  {
   "cell_type": "code",
   "execution_count": 24,
   "metadata": {},
   "outputs": [],
   "source": [
    "model = LinearRegression()"
   ]
  },
  {
   "cell_type": "code",
   "execution_count": 25,
   "metadata": {},
   "outputs": [
    {
     "data": {
      "text/plain": [
       "LinearRegression(copy_X=True, fit_intercept=True, n_jobs=None, normalize=False)"
      ]
     },
     "execution_count": 25,
     "metadata": {},
     "output_type": "execute_result"
    }
   ],
   "source": [
    "model.fit(train, y_val)"
   ]
  },
  {
   "cell_type": "code",
   "execution_count": 26,
   "metadata": {},
   "outputs": [],
   "source": [
    "y_val_pred = model.predict(train)"
   ]
  },
  {
   "cell_type": "code",
   "execution_count": 27,
   "metadata": {},
   "outputs": [
    {
     "data": {
      "text/plain": [
       "0.9016665607523894"
      ]
     },
     "execution_count": 27,
     "metadata": {},
     "output_type": "execute_result"
    }
   ],
   "source": [
    "mean_squared_error(y_val_pred, y_val)"
   ]
  },
  {
   "cell_type": "code",
   "execution_count": 28,
   "metadata": {},
   "outputs": [
    {
     "data": {
      "text/plain": [
       "-1.316892154451053"
      ]
     },
     "execution_count": 28,
     "metadata": {},
     "output_type": "execute_result"
    }
   ],
   "source": [
    "r2_score(y_val_pred, y_val)"
   ]
  },
  {
   "cell_type": "code",
   "execution_count": 31,
   "metadata": {},
   "outputs": [],
   "source": [
    "y_test_lstm = pd.read_csv('Data/LSTM_submission.csv', index_col=0)['item_cnt_month'].values"
   ]
  },
  {
   "cell_type": "code",
   "execution_count": 32,
   "metadata": {},
   "outputs": [
    {
     "data": {
      "text/plain": [
       "array([0.50251073, 0.13355738, 1.19719255, ..., 0.29971504, 0.24980682,\n",
       "       0.26679975])"
      ]
     },
     "execution_count": 32,
     "metadata": {},
     "output_type": "execute_result"
    }
   ],
   "source": [
    "y_test_lstm"
   ]
  },
  {
   "cell_type": "code",
   "execution_count": 33,
   "metadata": {},
   "outputs": [],
   "source": [
    "y_test_xgb = pd.read_csv('xgb_submission.csv', index_col=0)['item_cnt_month'].values"
   ]
  },
  {
   "cell_type": "code",
   "execution_count": 34,
   "metadata": {},
   "outputs": [
    {
     "data": {
      "text/plain": [
       "array([0.8444514 , 0.7428379 , 1.3768667 , ..., 0.0699366 , 0.04952243,\n",
       "       0.03589451])"
      ]
     },
     "execution_count": 34,
     "metadata": {},
     "output_type": "execute_result"
    }
   ],
   "source": [
    "y_test_xgb"
   ]
  },
  {
   "cell_type": "code",
   "execution_count": 35,
   "metadata": {},
   "outputs": [],
   "source": [
    "y_test_lr = pd.read_csv('Data/Lr.csv', index_col=0)['item_cnt_month'].values"
   ]
  },
  {
   "cell_type": "code",
   "execution_count": 36,
   "metadata": {},
   "outputs": [
    {
     "data": {
      "text/plain": [
       "array([ 0.26845817,  0.20084898,  1.02359446, ...,  0.04567058,\n",
       "       -0.00423424,  0.0463804 ])"
      ]
     },
     "execution_count": 36,
     "metadata": {},
     "output_type": "execute_result"
    }
   ],
   "source": [
    "y_test_lr"
   ]
  },
  {
   "cell_type": "code",
   "execution_count": 37,
   "metadata": {},
   "outputs": [],
   "source": [
    "test = pd.DataFrame({'lstm' : y_test_lstm, 'xgb' : y_test_xgb, 'lr' : y_test_lr})"
   ]
  },
  {
   "cell_type": "code",
   "execution_count": 38,
   "metadata": {},
   "outputs": [],
   "source": [
    "y_test = model.predict(test)"
   ]
  },
  {
   "cell_type": "code",
   "execution_count": 39,
   "metadata": {},
   "outputs": [],
   "source": [
    "submission = pd.DataFrame({\n",
    "    'ID' : test.index,\n",
    "    'item_cnt_month' : y_test\n",
    "})"
   ]
  },
  {
   "cell_type": "code",
   "execution_count": 40,
   "metadata": {},
   "outputs": [],
   "source": [
    "submission.to_csv('Data/Ensembled.csv')"
   ]
  },
  {
   "cell_type": "code",
   "execution_count": 2,
   "metadata": {},
   "outputs": [],
   "source": [
    "import pandas as pd\n",
    "submission = pd.read_csv('Data/Ensembled.csv')"
   ]
  },
  {
   "cell_type": "code",
   "execution_count": 6,
   "metadata": {},
   "outputs": [],
   "source": [
    "submission = submission[['ID', 'item_cnt_month']]"
   ]
  },
  {
   "cell_type": "code",
   "execution_count": 8,
   "metadata": {},
   "outputs": [],
   "source": [
    "submission.to_csv('Data/Ensembled.csv', index=False)"
   ]
  },
  {
   "cell_type": "code",
   "execution_count": null,
   "metadata": {},
   "outputs": [],
   "source": []
  }
 ],
 "metadata": {
  "kernelspec": {
   "display_name": "Python 3",
   "language": "python",
   "name": "python3"
  },
  "language_info": {
   "codemirror_mode": {
    "name": "ipython",
    "version": 3
   },
   "file_extension": ".py",
   "mimetype": "text/x-python",
   "name": "python",
   "nbconvert_exporter": "python",
   "pygments_lexer": "ipython3",
   "version": "3.8.2"
  },
  "pycharm": {
   "stem_cell": {
    "cell_type": "raw",
    "metadata": {
     "collapsed": false
    },
    "source": []
   }
  }
 },
 "nbformat": 4,
 "nbformat_minor": 1
}
